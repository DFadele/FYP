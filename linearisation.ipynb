{
 "cells": [
  {
   "cell_type": "markdown",
   "metadata": {},
   "source": [
    "# Symbolic Linearisation of Quadcopter Model"
   ]
  },
  {
   "cell_type": "code",
   "execution_count": 1,
   "metadata": {},
   "outputs": [],
   "source": [
    "import sympy as sp\n",
    "from sympy import sin, cos, tan"
   ]
  },
  {
   "cell_type": "code",
   "execution_count": 2,
   "metadata": {},
   "outputs": [],
   "source": [
    "x, y, z, u, v, w = sp.symbols('x y z u v w')\n",
    "phi, theta, psi = sp.symbols('phi theta psi')\n",
    "p, q, r = sp.symbols('p q r')\n",
    "u1, u2, u3, u4 = sp.symbols('u1 u2 u3 u4')"
   ]
  },
  {
   "cell_type": "code",
   "execution_count": 3,
   "metadata": {},
   "outputs": [],
   "source": [
    "m, g = sp.symbols('m g')\n",
    "Ix, Iy, Iz = sp.symbols('I_x I_y I_z')"
   ]
  },
  {
   "cell_type": "code",
   "execution_count": 4,
   "metadata": {},
   "outputs": [],
   "source": [
    "state = sp.Matrix([x,y,z,u,v,w,phi,theta,psi,p,q,r])\n",
    "inputs = sp.Matrix([u1,u2,u3,u4])"
   ]
  },
  {
   "cell_type": "code",
   "execution_count": 5,
   "metadata": {},
   "outputs": [
    {
     "name": "stdout",
     "output_type": "stream",
     "text": [
      "\\left[\\begin{matrix}u_{1} & u_{2} & u_{3} & u_{4}\\end{matrix}\\right]\n"
     ]
    }
   ],
   "source": [
    "sp.print_latex(inputs.transpose())"
   ]
  },
  {
   "cell_type": "code",
   "execution_count": 6,
   "metadata": {},
   "outputs": [],
   "source": [
    "# Translational Dynamics\n",
    "dx = u*(cos(theta)*cos(psi)) + v*(sin(phi)*sin(theta)*cos(psi) - cos(phi)*sin(psi)) + w*(cos(phi)*sin(theta)*cos(psi) + sin(phi)*sin(psi))\n",
    "dy = u*(cos(theta)*sin(psi)) + v*(sin(phi)*sin(theta)*sin(psi) + cos(phi)*cos(psi)) + w*(cos(phi)*sin(theta)*sin(psi) - sin(phi)*cos(psi))\n",
    "dz = u*(sin(theta)) - v*(sin(phi)*cos(theta)) - w*(cos(phi)*cos(theta))\n",
    "du = r*v - q*w - g*sin(theta)\n",
    "dv = p*w - r*u + g*cos(theta)*sin(phi)\n",
    "dw = q*u - p*v + g*cos(theta)*cos(phi) - u1/m"
   ]
  },
  {
   "cell_type": "code",
   "execution_count": 7,
   "metadata": {},
   "outputs": [],
   "source": [
    "# Rotational Dynamics\n",
    "dphi = p + q*(sin(phi)*tan(theta)) + r*(cos(phi)*tan(theta))\n",
    "dtheta = q*cos(phi) - r*sin(phi)\n",
    "dpsi = (q*sin(phi) + r*cos(phi))/cos(theta)\n",
    "dp = (Iy-Iz)/Ix *q*r + u2/Ix\n",
    "dq = (Iz-Ix)/Iy *p*r + u3/Iy\n",
    "dr = (Ix-Iy)/Iz *p*q + u4/Iz"
   ]
  },
  {
   "cell_type": "code",
   "execution_count": 8,
   "metadata": {},
   "outputs": [],
   "source": [
    "f = sp.Matrix([dx,dy,dz,du,dv,dw,dphi,dtheta,dpsi,dp,dq,dr])\n",
    "\n",
    "Asym = f.jacobian(state)\n",
    "Bsym = f.jacobian(inputs)"
   ]
  },
  {
   "cell_type": "code",
   "execution_count": null,
   "metadata": {},
   "outputs": [],
   "source": []
  },
  {
   "cell_type": "code",
   "execution_count": 9,
   "metadata": {},
   "outputs": [
    {
     "name": "stdout",
     "output_type": "stream",
     "text": [
      "\\left[\\begin{matrix}u \\cos{\\left(\\psi \\right)} \\cos{\\left(\\theta \\right)} + v \\left(\\sin{\\left(\\phi \\right)} \\sin{\\left(\\theta \\right)} \\cos{\\left(\\psi \\right)} - \\sin{\\left(\\psi \\right)} \\cos{\\left(\\phi \\right)}\\right) + w \\left(\\sin{\\left(\\phi \\right)} \\sin{\\left(\\psi \\right)} + \\sin{\\left(\\theta \\right)} \\cos{\\left(\\phi \\right)} \\cos{\\left(\\psi \\right)}\\right)\\\\u \\sin{\\left(\\psi \\right)} \\cos{\\left(\\theta \\right)} + v \\left(\\sin{\\left(\\phi \\right)} \\sin{\\left(\\psi \\right)} \\sin{\\left(\\theta \\right)} + \\cos{\\left(\\phi \\right)} \\cos{\\left(\\psi \\right)}\\right) + w \\left(- \\sin{\\left(\\phi \\right)} \\cos{\\left(\\psi \\right)} + \\sin{\\left(\\psi \\right)} \\sin{\\left(\\theta \\right)} \\cos{\\left(\\phi \\right)}\\right)\\\\u \\sin{\\left(\\theta \\right)} - v \\sin{\\left(\\phi \\right)} \\cos{\\left(\\theta \\right)} - w \\cos{\\left(\\phi \\right)} \\cos{\\left(\\theta \\right)}\\\\- g \\sin{\\left(\\theta \\right)} - q w + r v\\\\g \\sin{\\left(\\phi \\right)} \\cos{\\left(\\theta \\right)} + p w - r u\\\\g \\cos{\\left(\\phi \\right)} \\cos{\\left(\\theta \\right)} - p v + q u - \\frac{u_{1}}{m}\\\\p + q \\sin{\\left(\\phi \\right)} \\tan{\\left(\\theta \\right)} + r \\cos{\\left(\\phi \\right)} \\tan{\\left(\\theta \\right)}\\\\q \\cos{\\left(\\phi \\right)} - r \\sin{\\left(\\phi \\right)}\\\\\\frac{q \\sin{\\left(\\phi \\right)} + r \\cos{\\left(\\phi \\right)}}{\\cos{\\left(\\theta \\right)}}\\\\\\frac{q r \\left(I_{y} - I_{z}\\right)}{I_{x}} + \\frac{u_{2}}{I_{x}}\\\\\\frac{p r \\left(- I_{x} + I_{z}\\right)}{I_{y}} + \\frac{u_{3}}{I_{y}}\\\\\\frac{p q \\left(I_{x} - I_{y}\\right)}{I_{z}} + \\frac{u_{4}}{I_{z}}\\end{matrix}\\right]\n"
     ]
    }
   ],
   "source": [
    "sp.print_latex(f)"
   ]
  },
  {
   "cell_type": "code",
   "execution_count": 10,
   "metadata": {},
   "outputs": [
    {
     "data": {
      "text/latex": [
       "$\\displaystyle \\left[\\begin{array}{cccccccccccc}0 & 0 & 0 & \\cos{\\left(\\psi \\right)} \\cos{\\left(\\theta \\right)} & \\sin{\\left(\\phi \\right)} \\sin{\\left(\\theta \\right)} \\cos{\\left(\\psi \\right)} - \\sin{\\left(\\psi \\right)} \\cos{\\left(\\phi \\right)} & \\sin{\\left(\\phi \\right)} \\sin{\\left(\\psi \\right)} + \\sin{\\left(\\theta \\right)} \\cos{\\left(\\phi \\right)} \\cos{\\left(\\psi \\right)} & v \\left(\\sin{\\left(\\phi \\right)} \\sin{\\left(\\psi \\right)} + \\sin{\\left(\\theta \\right)} \\cos{\\left(\\phi \\right)} \\cos{\\left(\\psi \\right)}\\right) + w \\left(- \\sin{\\left(\\phi \\right)} \\sin{\\left(\\theta \\right)} \\cos{\\left(\\psi \\right)} + \\sin{\\left(\\psi \\right)} \\cos{\\left(\\phi \\right)}\\right) & - u \\sin{\\left(\\theta \\right)} \\cos{\\left(\\psi \\right)} + v \\sin{\\left(\\phi \\right)} \\cos{\\left(\\psi \\right)} \\cos{\\left(\\theta \\right)} + w \\cos{\\left(\\phi \\right)} \\cos{\\left(\\psi \\right)} \\cos{\\left(\\theta \\right)} & - u \\sin{\\left(\\psi \\right)} \\cos{\\left(\\theta \\right)} + v \\left(- \\sin{\\left(\\phi \\right)} \\sin{\\left(\\psi \\right)} \\sin{\\left(\\theta \\right)} - \\cos{\\left(\\phi \\right)} \\cos{\\left(\\psi \\right)}\\right) + w \\left(\\sin{\\left(\\phi \\right)} \\cos{\\left(\\psi \\right)} - \\sin{\\left(\\psi \\right)} \\sin{\\left(\\theta \\right)} \\cos{\\left(\\phi \\right)}\\right) & 0 & 0 & 0\\\\0 & 0 & 0 & \\sin{\\left(\\psi \\right)} \\cos{\\left(\\theta \\right)} & \\sin{\\left(\\phi \\right)} \\sin{\\left(\\psi \\right)} \\sin{\\left(\\theta \\right)} + \\cos{\\left(\\phi \\right)} \\cos{\\left(\\psi \\right)} & - \\sin{\\left(\\phi \\right)} \\cos{\\left(\\psi \\right)} + \\sin{\\left(\\psi \\right)} \\sin{\\left(\\theta \\right)} \\cos{\\left(\\phi \\right)} & v \\left(- \\sin{\\left(\\phi \\right)} \\cos{\\left(\\psi \\right)} + \\sin{\\left(\\psi \\right)} \\sin{\\left(\\theta \\right)} \\cos{\\left(\\phi \\right)}\\right) + w \\left(- \\sin{\\left(\\phi \\right)} \\sin{\\left(\\psi \\right)} \\sin{\\left(\\theta \\right)} - \\cos{\\left(\\phi \\right)} \\cos{\\left(\\psi \\right)}\\right) & - u \\sin{\\left(\\psi \\right)} \\sin{\\left(\\theta \\right)} + v \\sin{\\left(\\phi \\right)} \\sin{\\left(\\psi \\right)} \\cos{\\left(\\theta \\right)} + w \\sin{\\left(\\psi \\right)} \\cos{\\left(\\phi \\right)} \\cos{\\left(\\theta \\right)} & u \\cos{\\left(\\psi \\right)} \\cos{\\left(\\theta \\right)} + v \\left(\\sin{\\left(\\phi \\right)} \\sin{\\left(\\theta \\right)} \\cos{\\left(\\psi \\right)} - \\sin{\\left(\\psi \\right)} \\cos{\\left(\\phi \\right)}\\right) + w \\left(\\sin{\\left(\\phi \\right)} \\sin{\\left(\\psi \\right)} + \\sin{\\left(\\theta \\right)} \\cos{\\left(\\phi \\right)} \\cos{\\left(\\psi \\right)}\\right) & 0 & 0 & 0\\\\0 & 0 & 0 & \\sin{\\left(\\theta \\right)} & - \\sin{\\left(\\phi \\right)} \\cos{\\left(\\theta \\right)} & - \\cos{\\left(\\phi \\right)} \\cos{\\left(\\theta \\right)} & - v \\cos{\\left(\\phi \\right)} \\cos{\\left(\\theta \\right)} + w \\sin{\\left(\\phi \\right)} \\cos{\\left(\\theta \\right)} & u \\cos{\\left(\\theta \\right)} + v \\sin{\\left(\\phi \\right)} \\sin{\\left(\\theta \\right)} + w \\sin{\\left(\\theta \\right)} \\cos{\\left(\\phi \\right)} & 0 & 0 & 0 & 0\\\\0 & 0 & 0 & 0 & r & - q & 0 & - g \\cos{\\left(\\theta \\right)} & 0 & 0 & - w & v\\\\0 & 0 & 0 & - r & 0 & p & g \\cos{\\left(\\phi \\right)} \\cos{\\left(\\theta \\right)} & - g \\sin{\\left(\\phi \\right)} \\sin{\\left(\\theta \\right)} & 0 & w & 0 & - u\\\\0 & 0 & 0 & q & - p & 0 & - g \\sin{\\left(\\phi \\right)} \\cos{\\left(\\theta \\right)} & - g \\sin{\\left(\\theta \\right)} \\cos{\\left(\\phi \\right)} & 0 & - v & u & 0\\\\0 & 0 & 0 & 0 & 0 & 0 & q \\cos{\\left(\\phi \\right)} \\tan{\\left(\\theta \\right)} - r \\sin{\\left(\\phi \\right)} \\tan{\\left(\\theta \\right)} & q \\left(\\tan^{2}{\\left(\\theta \\right)} + 1\\right) \\sin{\\left(\\phi \\right)} + r \\left(\\tan^{2}{\\left(\\theta \\right)} + 1\\right) \\cos{\\left(\\phi \\right)} & 0 & 1 & \\sin{\\left(\\phi \\right)} \\tan{\\left(\\theta \\right)} & \\cos{\\left(\\phi \\right)} \\tan{\\left(\\theta \\right)}\\\\0 & 0 & 0 & 0 & 0 & 0 & - q \\sin{\\left(\\phi \\right)} - r \\cos{\\left(\\phi \\right)} & 0 & 0 & 0 & \\cos{\\left(\\phi \\right)} & - \\sin{\\left(\\phi \\right)}\\\\0 & 0 & 0 & 0 & 0 & 0 & \\frac{q \\cos{\\left(\\phi \\right)} - r \\sin{\\left(\\phi \\right)}}{\\cos{\\left(\\theta \\right)}} & \\frac{\\left(q \\sin{\\left(\\phi \\right)} + r \\cos{\\left(\\phi \\right)}\\right) \\sin{\\left(\\theta \\right)}}{\\cos^{2}{\\left(\\theta \\right)}} & 0 & 0 & \\frac{\\sin{\\left(\\phi \\right)}}{\\cos{\\left(\\theta \\right)}} & \\frac{\\cos{\\left(\\phi \\right)}}{\\cos{\\left(\\theta \\right)}}\\\\0 & 0 & 0 & 0 & 0 & 0 & 0 & 0 & 0 & 0 & \\frac{r \\left(I_{y} - I_{z}\\right)}{I_{x}} & \\frac{q \\left(I_{y} - I_{z}\\right)}{I_{x}}\\\\0 & 0 & 0 & 0 & 0 & 0 & 0 & 0 & 0 & \\frac{r \\left(- I_{x} + I_{z}\\right)}{I_{y}} & 0 & \\frac{p \\left(- I_{x} + I_{z}\\right)}{I_{y}}\\\\0 & 0 & 0 & 0 & 0 & 0 & 0 & 0 & 0 & \\frac{q \\left(I_{x} - I_{y}\\right)}{I_{z}} & \\frac{p \\left(I_{x} - I_{y}\\right)}{I_{z}} & 0\\end{array}\\right]$"
      ],
      "text/plain": [
       "Matrix([\n",
       "[0, 0, 0, cos(psi)*cos(theta), sin(phi)*sin(theta)*cos(psi) - sin(psi)*cos(phi),  sin(phi)*sin(psi) + sin(theta)*cos(phi)*cos(psi),  v*(sin(phi)*sin(psi) + sin(theta)*cos(phi)*cos(psi)) + w*(-sin(phi)*sin(theta)*cos(psi) + sin(psi)*cos(phi)), -u*sin(theta)*cos(psi) + v*sin(phi)*cos(psi)*cos(theta) + w*cos(phi)*cos(psi)*cos(theta), -u*sin(psi)*cos(theta) + v*(-sin(phi)*sin(psi)*sin(theta) - cos(phi)*cos(psi)) + w*(sin(phi)*cos(psi) - sin(psi)*sin(theta)*cos(phi)),                  0,                   0,                   0],\n",
       "[0, 0, 0, sin(psi)*cos(theta), sin(phi)*sin(psi)*sin(theta) + cos(phi)*cos(psi), -sin(phi)*cos(psi) + sin(psi)*sin(theta)*cos(phi), v*(-sin(phi)*cos(psi) + sin(psi)*sin(theta)*cos(phi)) + w*(-sin(phi)*sin(psi)*sin(theta) - cos(phi)*cos(psi)), -u*sin(psi)*sin(theta) + v*sin(phi)*sin(psi)*cos(theta) + w*sin(psi)*cos(phi)*cos(theta),   u*cos(psi)*cos(theta) + v*(sin(phi)*sin(theta)*cos(psi) - sin(psi)*cos(phi)) + w*(sin(phi)*sin(psi) + sin(theta)*cos(phi)*cos(psi)),                  0,                   0,                   0],\n",
       "[0, 0, 0,          sin(theta),                             -sin(phi)*cos(theta),                              -cos(phi)*cos(theta),                                                                -v*cos(phi)*cos(theta) + w*sin(phi)*cos(theta),                             u*cos(theta) + v*sin(phi)*sin(theta) + w*sin(theta)*cos(phi),                                                                                                                                     0,                  0,                   0,                   0],\n",
       "[0, 0, 0,                   0,                                                r,                                                -q,                                                                                                             0,                                                                            -g*cos(theta),                                                                                                                                     0,                  0,                  -w,                   v],\n",
       "[0, 0, 0,                  -r,                                                0,                                                 p,                                                                                         g*cos(phi)*cos(theta),                                                                   -g*sin(phi)*sin(theta),                                                                                                                                     0,                  w,                   0,                  -u],\n",
       "[0, 0, 0,                   q,                                               -p,                                                 0,                                                                                        -g*sin(phi)*cos(theta),                                                                   -g*sin(theta)*cos(phi),                                                                                                                                     0,                 -v,                   u,                   0],\n",
       "[0, 0, 0,                   0,                                                0,                                                 0,                                                                 q*cos(phi)*tan(theta) - r*sin(phi)*tan(theta),                          q*(tan(theta)**2 + 1)*sin(phi) + r*(tan(theta)**2 + 1)*cos(phi),                                                                                                                                     0,                  1, sin(phi)*tan(theta), cos(phi)*tan(theta)],\n",
       "[0, 0, 0,                   0,                                                0,                                                 0,                                                                                      -q*sin(phi) - r*cos(phi),                                                                                        0,                                                                                                                                     0,                  0,            cos(phi),           -sin(phi)],\n",
       "[0, 0, 0,                   0,                                                0,                                                 0,                                                                          (q*cos(phi) - r*sin(phi))/cos(theta),                                       (q*sin(phi) + r*cos(phi))*sin(theta)/cos(theta)**2,                                                                                                                                     0,                  0, sin(phi)/cos(theta), cos(phi)/cos(theta)],\n",
       "[0, 0, 0,                   0,                                                0,                                                 0,                                                                                                             0,                                                                                        0,                                                                                                                                     0,                  0,   r*(I_y - I_z)/I_x,   q*(I_y - I_z)/I_x],\n",
       "[0, 0, 0,                   0,                                                0,                                                 0,                                                                                                             0,                                                                                        0,                                                                                                                                     0, r*(-I_x + I_z)/I_y,                   0,  p*(-I_x + I_z)/I_y],\n",
       "[0, 0, 0,                   0,                                                0,                                                 0,                                                                                                             0,                                                                                        0,                                                                                                                                     0,  q*(I_x - I_y)/I_z,   p*(I_x - I_y)/I_z,                   0]])"
      ]
     },
     "execution_count": 10,
     "metadata": {},
     "output_type": "execute_result"
    }
   ],
   "source": [
    "Asym\n",
    "#Asym"
   ]
  },
  {
   "cell_type": "code",
   "execution_count": 11,
   "metadata": {},
   "outputs": [
    {
     "data": {
      "text/latex": [
       "$\\displaystyle \\left[\\begin{matrix}0 & 0 & 0 & 0\\\\0 & 0 & 0 & 0\\\\0 & 0 & 0 & 0\\\\0 & 0 & 0 & 0\\\\0 & 0 & 0 & 0\\\\- \\frac{1}{m} & 0 & 0 & 0\\\\0 & 0 & 0 & 0\\\\0 & 0 & 0 & 0\\\\0 & 0 & 0 & 0\\\\0 & \\frac{1}{I_{x}} & 0 & 0\\\\0 & 0 & \\frac{1}{I_{y}} & 0\\\\0 & 0 & 0 & \\frac{1}{I_{z}}\\end{matrix}\\right]$"
      ],
      "text/plain": [
       "Matrix([\n",
       "[   0,     0,     0,     0],\n",
       "[   0,     0,     0,     0],\n",
       "[   0,     0,     0,     0],\n",
       "[   0,     0,     0,     0],\n",
       "[   0,     0,     0,     0],\n",
       "[-1/m,     0,     0,     0],\n",
       "[   0,     0,     0,     0],\n",
       "[   0,     0,     0,     0],\n",
       "[   0,     0,     0,     0],\n",
       "[   0, 1/I_x,     0,     0],\n",
       "[   0,     0, 1/I_y,     0],\n",
       "[   0,     0,     0, 1/I_z]])"
      ]
     },
     "execution_count": 11,
     "metadata": {},
     "output_type": "execute_result"
    }
   ],
   "source": [
    "Bsym"
   ]
  },
  {
   "cell_type": "code",
   "execution_count": 12,
   "metadata": {},
   "outputs": [],
   "source": [
    "# Hover equilibrium point\n",
    "\n",
    "substitutions = {\n",
    "    u: 0, v: 0, w: 0,\n",
    "    phi: 0, theta: 0, psi: 0,\n",
    "    p: 0, q: 0, r: 0,\n",
    "    u1: -m*g, u2: 0, u3: 0, u4: 0,\n",
    "}\n",
    "A = Asym.subs(substitutions)\n",
    "B = Bsym.subs(substitutions)"
   ]
  },
  {
   "cell_type": "code",
   "execution_count": 13,
   "metadata": {},
   "outputs": [],
   "source": [
    "A = sp.simplify(A)\n",
    "B = sp.simplify(B)"
   ]
  },
  {
   "cell_type": "code",
   "execution_count": 14,
   "metadata": {},
   "outputs": [
    {
     "data": {
      "text/latex": [
       "$\\displaystyle \\left[\\begin{array}{cccccccccccc}0 & 0 & 0 & 1 & 0 & 0 & 0 & 0 & 0 & 0 & 0 & 0\\\\0 & 0 & 0 & 0 & 1 & 0 & 0 & 0 & 0 & 0 & 0 & 0\\\\0 & 0 & 0 & 0 & 0 & -1 & 0 & 0 & 0 & 0 & 0 & 0\\\\0 & 0 & 0 & 0 & 0 & 0 & 0 & - g & 0 & 0 & 0 & 0\\\\0 & 0 & 0 & 0 & 0 & 0 & g & 0 & 0 & 0 & 0 & 0\\\\0 & 0 & 0 & 0 & 0 & 0 & 0 & 0 & 0 & 0 & 0 & 0\\\\0 & 0 & 0 & 0 & 0 & 0 & 0 & 0 & 0 & 1 & 0 & 0\\\\0 & 0 & 0 & 0 & 0 & 0 & 0 & 0 & 0 & 0 & 1 & 0\\\\0 & 0 & 0 & 0 & 0 & 0 & 0 & 0 & 0 & 0 & 0 & 1\\\\0 & 0 & 0 & 0 & 0 & 0 & 0 & 0 & 0 & 0 & 0 & 0\\\\0 & 0 & 0 & 0 & 0 & 0 & 0 & 0 & 0 & 0 & 0 & 0\\\\0 & 0 & 0 & 0 & 0 & 0 & 0 & 0 & 0 & 0 & 0 & 0\\end{array}\\right]$"
      ],
      "text/plain": [
       "Matrix([\n",
       "[0, 0, 0, 1, 0,  0, 0,  0, 0, 0, 0, 0],\n",
       "[0, 0, 0, 0, 1,  0, 0,  0, 0, 0, 0, 0],\n",
       "[0, 0, 0, 0, 0, -1, 0,  0, 0, 0, 0, 0],\n",
       "[0, 0, 0, 0, 0,  0, 0, -g, 0, 0, 0, 0],\n",
       "[0, 0, 0, 0, 0,  0, g,  0, 0, 0, 0, 0],\n",
       "[0, 0, 0, 0, 0,  0, 0,  0, 0, 0, 0, 0],\n",
       "[0, 0, 0, 0, 0,  0, 0,  0, 0, 1, 0, 0],\n",
       "[0, 0, 0, 0, 0,  0, 0,  0, 0, 0, 1, 0],\n",
       "[0, 0, 0, 0, 0,  0, 0,  0, 0, 0, 0, 1],\n",
       "[0, 0, 0, 0, 0,  0, 0,  0, 0, 0, 0, 0],\n",
       "[0, 0, 0, 0, 0,  0, 0,  0, 0, 0, 0, 0],\n",
       "[0, 0, 0, 0, 0,  0, 0,  0, 0, 0, 0, 0]])"
      ]
     },
     "execution_count": 14,
     "metadata": {},
     "output_type": "execute_result"
    }
   ],
   "source": [
    "A"
   ]
  },
  {
   "cell_type": "code",
   "execution_count": 15,
   "metadata": {},
   "outputs": [
    {
     "name": "stdout",
     "output_type": "stream",
     "text": [
      "\\left[\\begin{matrix}0 & 0 & 0 & 0\\\\0 & 0 & 0 & 0\\\\0 & 0 & 0 & 0\\\\0 & 0 & 0 & 0\\\\0 & 0 & 0 & 0\\\\- \\frac{1}{m} & 0 & 0 & 0\\\\0 & 0 & 0 & 0\\\\0 & 0 & 0 & 0\\\\0 & 0 & 0 & 0\\\\0 & \\frac{1}{I_{x}} & 0 & 0\\\\0 & 0 & \\frac{1}{I_{y}} & 0\\\\0 & 0 & 0 & \\frac{1}{I_{z}}\\end{matrix}\\right]\n"
     ]
    }
   ],
   "source": [
    "sp.print_latex(B)"
   ]
  },
  {
   "cell_type": "code",
   "execution_count": 16,
   "metadata": {},
   "outputs": [
    {
     "name": "stdout",
     "output_type": "stream",
     "text": [
      "\\left[\\begin{matrix}u\\\\v\\\\- w\\\\- g \\theta\\\\g \\phi\\\\- \\frac{u_{1}}{m}\\\\p\\\\q\\\\r\\\\\\frac{u_{2}}{I_{x}}\\\\\\frac{u_{3}}{I_{y}}\\\\\\frac{u_{4}}{I_{z}}\\end{matrix}\\right]\n"
     ]
    }
   ],
   "source": [
    "sp.print_latex(A @ state + B @ inputs)"
   ]
  },
  {
   "cell_type": "code",
   "execution_count": 17,
   "metadata": {},
   "outputs": [
    {
     "data": {
      "text/latex": [
       "$\\displaystyle \\left[\\begin{array}{cccccccccccc}0 & 0 & 0 & \\cos{\\left(\\psi \\right)} \\cos{\\left(\\theta \\right)} & \\sin{\\left(\\phi \\right)} \\sin{\\left(\\theta \\right)} \\cos{\\left(\\psi \\right)} - \\sin{\\left(\\psi \\right)} \\cos{\\left(\\phi \\right)} & \\sin{\\left(\\phi \\right)} \\sin{\\left(\\psi \\right)} + \\sin{\\left(\\theta \\right)} \\cos{\\left(\\phi \\right)} \\cos{\\left(\\psi \\right)} & v \\left(\\sin{\\left(\\phi \\right)} \\sin{\\left(\\psi \\right)} + \\sin{\\left(\\theta \\right)} \\cos{\\left(\\phi \\right)} \\cos{\\left(\\psi \\right)}\\right) + w \\left(- \\sin{\\left(\\phi \\right)} \\sin{\\left(\\theta \\right)} \\cos{\\left(\\psi \\right)} + \\sin{\\left(\\psi \\right)} \\cos{\\left(\\phi \\right)}\\right) & - u \\sin{\\left(\\theta \\right)} \\cos{\\left(\\psi \\right)} + v \\sin{\\left(\\phi \\right)} \\cos{\\left(\\psi \\right)} \\cos{\\left(\\theta \\right)} + w \\cos{\\left(\\phi \\right)} \\cos{\\left(\\psi \\right)} \\cos{\\left(\\theta \\right)} & - u \\sin{\\left(\\psi \\right)} \\cos{\\left(\\theta \\right)} + v \\left(- \\sin{\\left(\\phi \\right)} \\sin{\\left(\\psi \\right)} \\sin{\\left(\\theta \\right)} - \\cos{\\left(\\phi \\right)} \\cos{\\left(\\psi \\right)}\\right) + w \\left(\\sin{\\left(\\phi \\right)} \\cos{\\left(\\psi \\right)} - \\sin{\\left(\\psi \\right)} \\sin{\\left(\\theta \\right)} \\cos{\\left(\\phi \\right)}\\right) & 0 & 0 & 0\\\\0 & 0 & 0 & \\sin{\\left(\\psi \\right)} \\cos{\\left(\\theta \\right)} & \\sin{\\left(\\phi \\right)} \\sin{\\left(\\psi \\right)} \\sin{\\left(\\theta \\right)} + \\cos{\\left(\\phi \\right)} \\cos{\\left(\\psi \\right)} & - \\sin{\\left(\\phi \\right)} \\cos{\\left(\\psi \\right)} + \\sin{\\left(\\psi \\right)} \\sin{\\left(\\theta \\right)} \\cos{\\left(\\phi \\right)} & v \\left(- \\sin{\\left(\\phi \\right)} \\cos{\\left(\\psi \\right)} + \\sin{\\left(\\psi \\right)} \\sin{\\left(\\theta \\right)} \\cos{\\left(\\phi \\right)}\\right) + w \\left(- \\sin{\\left(\\phi \\right)} \\sin{\\left(\\psi \\right)} \\sin{\\left(\\theta \\right)} - \\cos{\\left(\\phi \\right)} \\cos{\\left(\\psi \\right)}\\right) & - u \\sin{\\left(\\psi \\right)} \\sin{\\left(\\theta \\right)} + v \\sin{\\left(\\phi \\right)} \\sin{\\left(\\psi \\right)} \\cos{\\left(\\theta \\right)} + w \\sin{\\left(\\psi \\right)} \\cos{\\left(\\phi \\right)} \\cos{\\left(\\theta \\right)} & u \\cos{\\left(\\psi \\right)} \\cos{\\left(\\theta \\right)} + v \\left(\\sin{\\left(\\phi \\right)} \\sin{\\left(\\theta \\right)} \\cos{\\left(\\psi \\right)} - \\sin{\\left(\\psi \\right)} \\cos{\\left(\\phi \\right)}\\right) + w \\left(\\sin{\\left(\\phi \\right)} \\sin{\\left(\\psi \\right)} + \\sin{\\left(\\theta \\right)} \\cos{\\left(\\phi \\right)} \\cos{\\left(\\psi \\right)}\\right) & 0 & 0 & 0\\\\0 & 0 & 0 & \\sin{\\left(\\theta \\right)} & - \\sin{\\left(\\phi \\right)} \\cos{\\left(\\theta \\right)} & - \\cos{\\left(\\phi \\right)} \\cos{\\left(\\theta \\right)} & - v \\cos{\\left(\\phi \\right)} \\cos{\\left(\\theta \\right)} + w \\sin{\\left(\\phi \\right)} \\cos{\\left(\\theta \\right)} & u \\cos{\\left(\\theta \\right)} + v \\sin{\\left(\\phi \\right)} \\sin{\\left(\\theta \\right)} + w \\sin{\\left(\\theta \\right)} \\cos{\\left(\\phi \\right)} & 0 & 0 & 0 & 0\\\\0 & 0 & 0 & 0 & r & - q & 0 & - g \\cos{\\left(\\theta \\right)} & 0 & 0 & - w & v\\\\0 & 0 & 0 & - r & 0 & p & g \\cos{\\left(\\phi \\right)} \\cos{\\left(\\theta \\right)} & - g \\sin{\\left(\\phi \\right)} \\sin{\\left(\\theta \\right)} & 0 & w & 0 & - u\\\\0 & 0 & 0 & q & - p & 0 & - g \\sin{\\left(\\phi \\right)} \\cos{\\left(\\theta \\right)} & - g \\sin{\\left(\\theta \\right)} \\cos{\\left(\\phi \\right)} & 0 & - v & u & 0\\\\0 & 0 & 0 & 0 & 0 & 0 & q \\cos{\\left(\\phi \\right)} \\tan{\\left(\\theta \\right)} - r \\sin{\\left(\\phi \\right)} \\tan{\\left(\\theta \\right)} & q \\left(\\tan^{2}{\\left(\\theta \\right)} + 1\\right) \\sin{\\left(\\phi \\right)} + r \\left(\\tan^{2}{\\left(\\theta \\right)} + 1\\right) \\cos{\\left(\\phi \\right)} & 0 & 1 & \\sin{\\left(\\phi \\right)} \\tan{\\left(\\theta \\right)} & \\cos{\\left(\\phi \\right)} \\tan{\\left(\\theta \\right)}\\\\0 & 0 & 0 & 0 & 0 & 0 & - q \\sin{\\left(\\phi \\right)} - r \\cos{\\left(\\phi \\right)} & 0 & 0 & 0 & \\cos{\\left(\\phi \\right)} & - \\sin{\\left(\\phi \\right)}\\\\0 & 0 & 0 & 0 & 0 & 0 & \\frac{q \\cos{\\left(\\phi \\right)} - r \\sin{\\left(\\phi \\right)}}{\\cos{\\left(\\theta \\right)}} & \\frac{\\left(q \\sin{\\left(\\phi \\right)} + r \\cos{\\left(\\phi \\right)}\\right) \\sin{\\left(\\theta \\right)}}{\\cos^{2}{\\left(\\theta \\right)}} & 0 & 0 & \\frac{\\sin{\\left(\\phi \\right)}}{\\cos{\\left(\\theta \\right)}} & \\frac{\\cos{\\left(\\phi \\right)}}{\\cos{\\left(\\theta \\right)}}\\\\0 & 0 & 0 & 0 & 0 & 0 & 0 & 0 & 0 & 0 & \\frac{r \\left(I_{y} - I_{z}\\right)}{I_{x}} & \\frac{q \\left(I_{y} - I_{z}\\right)}{I_{x}}\\\\0 & 0 & 0 & 0 & 0 & 0 & 0 & 0 & 0 & \\frac{r \\left(- I_{x} + I_{z}\\right)}{I_{y}} & 0 & \\frac{p \\left(- I_{x} + I_{z}\\right)}{I_{y}}\\\\0 & 0 & 0 & 0 & 0 & 0 & 0 & 0 & 0 & \\frac{q \\left(I_{x} - I_{y}\\right)}{I_{z}} & \\frac{p \\left(I_{x} - I_{y}\\right)}{I_{z}} & 0\\end{array}\\right]$"
      ],
      "text/plain": [
       "Matrix([\n",
       "[0, 0, 0, cos(psi)*cos(theta), sin(phi)*sin(theta)*cos(psi) - sin(psi)*cos(phi),  sin(phi)*sin(psi) + sin(theta)*cos(phi)*cos(psi),  v*(sin(phi)*sin(psi) + sin(theta)*cos(phi)*cos(psi)) + w*(-sin(phi)*sin(theta)*cos(psi) + sin(psi)*cos(phi)), -u*sin(theta)*cos(psi) + v*sin(phi)*cos(psi)*cos(theta) + w*cos(phi)*cos(psi)*cos(theta), -u*sin(psi)*cos(theta) + v*(-sin(phi)*sin(psi)*sin(theta) - cos(phi)*cos(psi)) + w*(sin(phi)*cos(psi) - sin(psi)*sin(theta)*cos(phi)),                  0,                   0,                   0],\n",
       "[0, 0, 0, sin(psi)*cos(theta), sin(phi)*sin(psi)*sin(theta) + cos(phi)*cos(psi), -sin(phi)*cos(psi) + sin(psi)*sin(theta)*cos(phi), v*(-sin(phi)*cos(psi) + sin(psi)*sin(theta)*cos(phi)) + w*(-sin(phi)*sin(psi)*sin(theta) - cos(phi)*cos(psi)), -u*sin(psi)*sin(theta) + v*sin(phi)*sin(psi)*cos(theta) + w*sin(psi)*cos(phi)*cos(theta),   u*cos(psi)*cos(theta) + v*(sin(phi)*sin(theta)*cos(psi) - sin(psi)*cos(phi)) + w*(sin(phi)*sin(psi) + sin(theta)*cos(phi)*cos(psi)),                  0,                   0,                   0],\n",
       "[0, 0, 0,          sin(theta),                             -sin(phi)*cos(theta),                              -cos(phi)*cos(theta),                                                                -v*cos(phi)*cos(theta) + w*sin(phi)*cos(theta),                             u*cos(theta) + v*sin(phi)*sin(theta) + w*sin(theta)*cos(phi),                                                                                                                                     0,                  0,                   0,                   0],\n",
       "[0, 0, 0,                   0,                                                r,                                                -q,                                                                                                             0,                                                                            -g*cos(theta),                                                                                                                                     0,                  0,                  -w,                   v],\n",
       "[0, 0, 0,                  -r,                                                0,                                                 p,                                                                                         g*cos(phi)*cos(theta),                                                                   -g*sin(phi)*sin(theta),                                                                                                                                     0,                  w,                   0,                  -u],\n",
       "[0, 0, 0,                   q,                                               -p,                                                 0,                                                                                        -g*sin(phi)*cos(theta),                                                                   -g*sin(theta)*cos(phi),                                                                                                                                     0,                 -v,                   u,                   0],\n",
       "[0, 0, 0,                   0,                                                0,                                                 0,                                                                 q*cos(phi)*tan(theta) - r*sin(phi)*tan(theta),                          q*(tan(theta)**2 + 1)*sin(phi) + r*(tan(theta)**2 + 1)*cos(phi),                                                                                                                                     0,                  1, sin(phi)*tan(theta), cos(phi)*tan(theta)],\n",
       "[0, 0, 0,                   0,                                                0,                                                 0,                                                                                      -q*sin(phi) - r*cos(phi),                                                                                        0,                                                                                                                                     0,                  0,            cos(phi),           -sin(phi)],\n",
       "[0, 0, 0,                   0,                                                0,                                                 0,                                                                          (q*cos(phi) - r*sin(phi))/cos(theta),                                       (q*sin(phi) + r*cos(phi))*sin(theta)/cos(theta)**2,                                                                                                                                     0,                  0, sin(phi)/cos(theta), cos(phi)/cos(theta)],\n",
       "[0, 0, 0,                   0,                                                0,                                                 0,                                                                                                             0,                                                                                        0,                                                                                                                                     0,                  0,   r*(I_y - I_z)/I_x,   q*(I_y - I_z)/I_x],\n",
       "[0, 0, 0,                   0,                                                0,                                                 0,                                                                                                             0,                                                                                        0,                                                                                                                                     0, r*(-I_x + I_z)/I_y,                   0,  p*(-I_x + I_z)/I_y],\n",
       "[0, 0, 0,                   0,                                                0,                                                 0,                                                                                                             0,                                                                                        0,                                                                                                                                     0,  q*(I_x - I_y)/I_z,   p*(I_x - I_y)/I_z,                   0]])"
      ]
     },
     "execution_count": 17,
     "metadata": {},
     "output_type": "execute_result"
    }
   ],
   "source": [
    "Asym"
   ]
  },
  {
   "cell_type": "code",
   "execution_count": null,
   "metadata": {},
   "outputs": [],
   "source": []
  }
 ],
 "metadata": {
  "kernelspec": {
   "display_name": "base",
   "language": "python",
   "name": "python3"
  },
  "language_info": {
   "codemirror_mode": {
    "name": "ipython",
    "version": 3
   },
   "file_extension": ".py",
   "mimetype": "text/x-python",
   "name": "python",
   "nbconvert_exporter": "python",
   "pygments_lexer": "ipython3",
   "version": "3.11.7"
  }
 },
 "nbformat": 4,
 "nbformat_minor": 2
}
