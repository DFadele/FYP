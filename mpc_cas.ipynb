{
 "cells": [
  {
   "cell_type": "code",
   "execution_count": null,
   "id": "f98bcdeb",
   "metadata": {},
   "outputs": [],
   "source": [
    "import casadi as ca\n",
    "import numpy as np\n",
    "from casadiNN import nn_func"
   ]
  },
  {
   "cell_type": "code",
   "execution_count": null,
   "id": "95ef8fe4",
   "metadata": {},
   "outputs": [],
   "source": [
    "N = 20              # MPC horizon\n",
    "dt = 0.005          # Timestep\n",
    "n_state = 12\n",
    "n_input = 4\n",
    "\n",
    "Q = np.diag([10.0, 10.0, 10.0] + [0.1]*(n_state - 3))  # Pos + state weights\n",
    "R = np.diag([0.1]*n_input)  "
   ]
  }
 ],
 "metadata": {
  "kernelspec": {
   "display_name": "base",
   "language": "python",
   "name": "python3"
  },
  "language_info": {
   "codemirror_mode": {
    "name": "ipython",
    "version": 3
   },
   "file_extension": ".py",
   "mimetype": "text/x-python",
   "name": "python",
   "nbconvert_exporter": "python",
   "pygments_lexer": "ipython3",
   "version": "3.11.7"
  }
 },
 "nbformat": 4,
 "nbformat_minor": 5
}
